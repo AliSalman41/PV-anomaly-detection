{
  "nbformat": 4,
  "nbformat_minor": 0,
  "metadata": {
    "colab": {
      "provenance": [],
      "include_colab_link": true
    },
    "kernelspec": {
      "name": "python3",
      "display_name": "Python 3"
    },
    "language_info": {
      "name": "python"
    }
  },
  "cells": [
    {
      "cell_type": "markdown",
      "metadata": {
        "id": "view-in-github",
        "colab_type": "text"
      },
      "source": [
        "<a href=\"https://colab.research.google.com/github/AliSalman41/PV-anomaly-detection/blob/main/Annotation_Conversion.ipynb\" target=\"_parent\"><img src=\"https://colab.research.google.com/assets/colab-badge.svg\" alt=\"Open In Colab\"/></a>"
      ]
    },
    {
      "cell_type": "code",
      "source": [
        "!mkdir -p workspaceFolder # creating main workspace folder"
      ],
      "metadata": {
        "id": "uXUNTrozeWeh"
      },
      "execution_count": null,
      "outputs": []
    },
    {
      "cell_type": "code",
      "source": [
        "import os\n",
        "import json\n",
        "%pip install kaggle\n",
        "%cd /content/workspaceFolder/\n",
        "\n",
        "os.environ['KAGGLE_CONFIG_DIR'] = \"/content/workspaceFolder/\""
      ],
      "metadata": {
        "id": "QgiHSEBKfdRe"
      },
      "execution_count": null,
      "outputs": []
    },
    {
      "cell_type": "code",
      "source": [
        "# downloading from kaggle requires API key - get from account details\n",
        "from getpass import getpass\n",
        "user = getpass(\"user:\\n\")\n",
        "key = getpass(\"key:\\n\")\n",
        "\n",
        "env = {\"username\":user, \"key\":key}\n",
        "with open('kaggle.json', 'w') as outfileKey:\n",
        "  json.dump(env, outfileKey)\n",
        "!chmod 600 'kaggle.json'"
      ],
      "metadata": {
        "id": "AB5AIQpHGebH"
      },
      "execution_count": null,
      "outputs": []
    },
    {
      "cell_type": "code",
      "source": [
        "# unzip kaggle dataset\n",
        "import zipfile\n",
        "!kaggle datasets download -d marcosgabriel/photovoltaic-system-thermography\n",
        "!unzip /content/workspaceFolder/photovoltaic-system-thermography.zip -d /content/workspaceFolder/datasetRaw/"
      ],
      "metadata": {
        "id": "1oQcN8tBf8Vd"
      },
      "execution_count": null,
      "outputs": []
    },
    {
      "cell_type": "code",
      "source": [
        "# create new folder for new annotations\n",
        "%cd -q '/content/workspaceFolder/'\n",
        "!mkdir -p newData/annotations"
      ],
      "metadata": {
        "id": "iVaXA_KDq1Oy"
      },
      "execution_count": null,
      "outputs": []
    },
    {
      "cell_type": "code",
      "source": [
        "# duplicate annotations into new folder\n",
        "from distutils.dir_util import copy_tree\n",
        "copy_tree(\"datasetRaw/annotations\", \"newData/annotations\")"
      ],
      "metadata": {
        "id": "Put2oQM0rGZR"
      },
      "execution_count": null,
      "outputs": []
    },
    {
      "cell_type": "code",
      "source": [
        "%cd -q '/content/workspaceFolder/'"
      ],
      "metadata": {
        "id": "kvCv-7ylrEcZ"
      },
      "execution_count": null,
      "outputs": []
    },
    {
      "cell_type": "code",
      "source": [
        "# open each of the old annotation files, find appropriate data, and rewrite new corresponding file\n",
        "dir = '/content/workspaceFolder/datasetRaw/annotations/'\n",
        "newDir = '/content/workspaceFolder/newData/annotations/'\n",
        "print(dir, newDir)\n",
        "\n",
        "for fileName in os.listdir(dir):\n",
        "  %cd -q '/content/workspaceFolder/datasetRaw/annotations/'\n",
        "  f = open(fileName)\n",
        "  data = json.loads(f.read())\n",
        "  boxes = [{\"label\":\"\", \"x\":0, \"y\":0, \"width\":0, \"height\":0} for i in range (len(data[\"instances\"]))]\n",
        "\n",
        "  print(\"# instances in \", f.name, \" : \", len(boxes))\n",
        "\n",
        "  final = {\"boxes\":[], \"height\":512, \"key\":(os.path.splitext(f.name)[0] + \".jpg\"), \"width\":640}\n",
        "  for i in range(len(data[\"instances\"])):\n",
        "    boxes[i][\"label\"]=\"PV_module\"\n",
        "    x, y = [], []\n",
        "    boxes[i][\"x\"], boxes[i][\"y\"] = 0, 0\n",
        "    for j in range(0, 4):\n",
        "      x.append(data[\"instances\"][i][\"corners\"][j][\"x\"])\n",
        "      y.append(data[\"instances\"][i][\"corners\"][j][\"y\"])\n",
        "      boxes[i][\"x\"], boxes[i][\"y\"] = max(x), max(y)\n",
        "    boxes[i][\"width\"], boxes[i][\"height\"] = max(x) - min(x), max(y) - min(y)\n",
        "    final[\"boxes\"].append(boxes[i])\n",
        "  %cd -q '/content/workspaceFolder/newData/annotations/'\n",
        "  with open(fileName, \"w\") as outfile:\n",
        "    json.dump(final, outfile)\n",
        "  f.close()\n",
        "  outfile.close()\n",
        "  "
      ],
      "metadata": {
        "id": "YpX-DoPmHmBW"
      },
      "execution_count": null,
      "outputs": []
    },
    {
      "cell_type": "code",
      "source": [
        "# zip new annotations into \"file.zip\"\n",
        "!zip -r /content/workspaceFolder/file.zip /content/workspaceFolder/newData/annotations/"
      ],
      "metadata": {
        "id": "oYnuTN7S69I2"
      },
      "execution_count": null,
      "outputs": []
    },
    {
      "cell_type": "code",
      "source": [
        "# download new annotations\n",
        "from google.colab import files\n",
        "files.download(\"/content/workspaceFolder/file.zip\")"
      ],
      "metadata": {
        "id": "FbTm6cOmWWAb"
      },
      "execution_count": null,
      "outputs": []
    }
  ]
}